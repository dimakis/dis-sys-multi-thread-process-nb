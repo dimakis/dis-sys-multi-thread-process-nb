{
 "cells": [
  {
   "cell_type": "code",
   "execution_count": 1,
   "metadata": {
    "colab": {
     "base_uri": "https://localhost:8080/",
     "height": 448
    },
    "id": "BWtzAAvL6DOK",
    "outputId": "87d08196-2e5f-4ca0-fc5e-3a807addff14"
   },
   "outputs": [
    {
     "name": "stdout",
     "output_type": "stream",
     "text": [
      "Architecture:                    x86_64\n",
      "CPU op-mode(s):                  32-bit, 64-bit\n",
      "Byte Order:                      Little Endian\n",
      "Address sizes:                   39 bits physical, 48 bits virtual\n",
      "CPU(s):                          12\n",
      "On-line CPU(s) list:             0-11\n",
      "Thread(s) per core:              2\n",
      "Core(s) per socket:              6\n",
      "Socket(s):                       1\n",
      "NUMA node(s):                    1\n",
      "Vendor ID:                       GenuineIntel\n",
      "CPU family:                      6\n",
      "Model:                           158\n",
      "Model name:                      Intel(R) Core(TM) i7-8750H CPU @ 2.20GHz\n",
      "Stepping:                        10\n",
      "CPU MHz:                         2200.000\n",
      "CPU max MHz:                     4100.0000\n",
      "CPU min MHz:                     800.0000\n",
      "BogoMIPS:                        4399.99\n",
      "Virtualization:                  VT-x\n",
      "L1d cache:                       192 KiB\n",
      "L1i cache:                       192 KiB\n",
      "L2 cache:                        1.5 MiB\n",
      "L3 cache:                        9 MiB\n",
      "NUMA node0 CPU(s):               0-11\n",
      "Vulnerability Itlb multihit:     KVM: Mitigation: VMX disabled\n",
      "Vulnerability L1tf:              Mitigation; PTE Inversion; VMX conditional cach\n",
      "                                 e flushes, SMT vulnerable\n",
      "Vulnerability Mds:               Mitigation; Clear CPU buffers; SMT vulnerable\n",
      "Vulnerability Meltdown:          Mitigation; PTI\n",
      "Vulnerability Spec store bypass: Mitigation; Speculative Store Bypass disabled v\n",
      "                                 ia prctl and seccomp\n",
      "Vulnerability Spectre v1:        Mitigation; usercopy/swapgs barriers and __user\n",
      "                                  pointer sanitization\n",
      "Vulnerability Spectre v2:        Mitigation; Full generic retpoline, IBPB condit\n",
      "                                 ional, IBRS_FW, STIBP conditional, RSB filling\n",
      "Vulnerability Srbds:             Mitigation; Microcode\n",
      "Vulnerability Tsx async abort:   Not affected\n",
      "Flags:                           fpu vme de pse tsc msr pae mce cx8 apic sep mtr\n",
      "                                 r pge mca cmov pat pse36 clflush dts acpi mmx f\n",
      "                                 xsr sse sse2 ss ht tm pbe syscall nx pdpe1gb rd\n",
      "                                 tscp lm constant_tsc art arch_perfmon pebs bts \n",
      "                                 rep_good nopl xtopology nonstop_tsc cpuid aperf\n",
      "                                 mperf pni pclmulqdq dtes64 monitor ds_cpl vmx e\n",
      "                                 st tm2 ssse3 sdbg fma cx16 xtpr pdcm pcid sse4_\n",
      "                                 1 sse4_2 x2apic movbe popcnt tsc_deadline_timer\n",
      "                                  aes xsave avx f16c rdrand lahf_lm abm 3dnowpre\n",
      "                                 fetch cpuid_fault epb invpcid_single pti ssbd i\n",
      "                                 brs ibpb stibp tpr_shadow vnmi flexpriority ept\n",
      "                                  vpid ept_ad fsgsbase tsc_adjust sgx bmi1 avx2 \n",
      "                                 smep bmi2 erms invpcid mpx rdseed adx smap clfl\n",
      "                                 ushopt intel_pt xsaveopt xsavec xgetbv1 xsaves \n",
      "                                 dtherm ida arat pln pts hwp hwp_notify hwp_act_\n",
      "                                 window hwp_epp sgx_lc md_clear flush_l1d\n"
     ]
    }
   ],
   "source": [
    "# Number of CPUs and Threads in Linux.\n",
    "# Refer: https://linux.die.net/man/1/lscpu\n",
    "!lscpu\n"
   ]
  },
  {
   "cell_type": "code",
   "execution_count": null,
   "metadata": {
    "id": "74ApHHln9GuK",
    "outputId": "f4e11807-cdf2-41d2-f712-92c137a636ed"
   },
   "outputs": [
    {
     "name": "stdout",
     "output_type": "stream",
     "text": [
      "Hardware:\n",
      "\n",
      "    Hardware Overview:\n",
      "\n",
      "      Model Name: MacBook Pro\n",
      "      Model Identifier: MacBookPro15,1\n",
      "      Processor Name: 6-Core Intel Core i7\n",
      "      Processor Speed: 2.6 GHz\n",
      "      Number of Processors: 1\n",
      "      Total Number of Cores: 6\n",
      "      L2 Cache (per Core): 256 KB\n",
      "      L3 Cache: 9 MB\n",
      "      Hyper-Threading Technology: Enabled\n",
      "      Memory: 16 GB\n",
      "      Boot ROM Version: 1037.147.1.0.0 (iBridge: 17.16.16065.0.0,0)\n",
      "      Serial Number (system): C02XN307JG5J\n",
      "      Hardware UUID: F0006400-93A8-535A-B85D-F101341AAC16\n",
      "      Activation Lock Status: Enabled\n",
      "\n"
     ]
    }
   ],
   "source": [
    "# for Mac\n",
    "!system_profiler SPHardwareDataType; "
   ]
  },
  {
   "cell_type": "markdown",
   "metadata": {
    "id": "d6rvY6mU9Ngm"
   },
   "source": [
    "## Mean of 100 Million observations"
   ]
  },
  {
   "cell_type": "code",
   "execution_count": null,
   "metadata": {
    "colab": {
     "base_uri": "https://localhost:8080/",
     "height": 34
    },
    "id": "3KofCQBP6zbT",
    "outputId": "53b60bdb-2155-4c3c-c667-b749d19ae9ae"
   },
   "outputs": [
    {
     "name": "stdout",
     "output_type": "stream",
     "text": [
      "(100000000,)\n"
     ]
    }
   ],
   "source": [
    "# Generate random 100MM data points \n",
    "import numpy as np\n",
    "n =100000000\n",
    "d = np.random.rand(n)\n",
    "print(d.shape)"
   ]
  },
  {
   "cell_type": "code",
   "execution_count": null,
   "metadata": {
    "colab": {
     "base_uri": "https://localhost:8080/",
     "height": 51
    },
    "id": "okpN0WRo9qYk",
    "outputId": "e6f38c2a-bab8-4253-9810-e7e9d93132f7"
   },
   "outputs": [
    {
     "name": "stdout",
     "output_type": "stream",
     "text": [
      "20.90457510948181\n",
      "0.49994777164597376\n"
     ]
    }
   ],
   "source": [
    "import time\n",
    "def mean():\n",
    "\n",
    "  #Sum using for loops. We can use inbuilt NumPy Sum opeartion for better speed.\n",
    "  sum = 0\n",
    "  n=d.size\n",
    "  for i in range(n):\n",
    "    sum +=d[i]\n",
    "\n",
    "  #Mean\n",
    "  mean = sum/n\n",
    "  return mean\n",
    "\n",
    "\n",
    "#Time the execution\n",
    "start_time = time.time()\n",
    "m = mean() # compute mean of 100MM numbers.\n",
    "end_time = time.time()\n",
    "print (end_time-start_time)\n",
    "print(m)"
   ]
  },
  {
   "cell_type": "markdown",
   "metadata": {
    "id": "vic-5rdM-j27"
   },
   "source": [
    "### Multi-Processing Code"
   ]
  },
  {
   "cell_type": "code",
   "execution_count": null,
   "metadata": {
    "colab": {
     "base_uri": "https://localhost:8080/",
     "height": 34
    },
    "id": "f4m9X5dw-Pvh",
    "outputId": "1e7f4eb5-2063-41b8-f475-4df24e4a0a88"
   },
   "outputs": [
    {
     "name": "stdout",
     "output_type": "stream",
     "text": [
      "11.001178979873657\n",
      "0.4999477716457993\n"
     ]
    }
   ],
   "source": [
    "#Refer: https://docs.python.org/3/library/multiprocessing.html\n",
    "from multiprocessing import Process, Queue\n",
    "import math\n",
    "\n",
    "def mean_MP(s, e, q ):\n",
    "\n",
    "  #Sum using for loops. We can use inbuilt NumPy Sum opeartion for better speed.\n",
    "  sum = 0\n",
    "  for i in range(s,e+1):\n",
    "    sum +=d[i]\n",
    "\n",
    "  #Mean\n",
    "  mean = sum/(e-s+1)\n",
    "  q.put(mean)\n",
    "  return \n",
    "\n",
    "n1 = math.floor(n/2)\n",
    "\n",
    "q = Queue() #Queues are thread and process safe. For communicating between processes and threads.\n",
    "\n",
    "p1 = Process(target=mean_MP, args=(0, n1,q )) \n",
    "p2 = Process(target=mean_MP, args=(n1+1,n-1, q)) \n",
    "\n",
    "\n",
    "#Time the execution\n",
    "start_time = time.time()\n",
    "\n",
    "p1.start()\n",
    "p2.start()\n",
    "\n",
    "p1.join() # Wait till p1 finishes\n",
    "p2.join() \n",
    "\n",
    "m=0;\n",
    "while not q.empty():\n",
    "     m += q.get()\n",
    "\n",
    "m /= 2;\n",
    "    \n",
    "end_time = time.time()\n",
    "print (end_time-start_time)\n",
    "print(m)\n"
   ]
  },
  {
   "cell_type": "markdown",
   "metadata": {
    "id": "6U80583j9GuU"
   },
   "source": [
    "### Multi-Threaded Code"
   ]
  },
  {
   "cell_type": "code",
   "execution_count": null,
   "metadata": {
    "id": "Hi2c6_Vr9GuV",
    "outputId": "9e00c07f-e5d9-4f0e-9984-1568d6d6d2c1"
   },
   "outputs": [
    {
     "name": "stdout",
     "output_type": "stream",
     "text": [
      "19.538660049438477\n",
      "0.4999477716457993\n"
     ]
    }
   ],
   "source": [
    "#Refer: https://docs.python.org/3/library/threading.html\n",
    "from threading import Thread\n",
    "\n",
    "\n",
    "means = [0,0];\n",
    "\n",
    "def mean_MT(s, e, threadNum ):\n",
    "\n",
    "  #Sum using for loops. We can use inbuilt NumPy Sum opeartion for better speed.\n",
    "  sum = 0\n",
    "  for i in range(s,e+1):\n",
    "    sum +=d[i]\n",
    "\n",
    "  #Mean\n",
    "  mean = sum/(e-s+1)\n",
    "  means[threadNum] = mean; # means is a shared varibale between the threads\n",
    "\n",
    "  return \n",
    "\n",
    "n1 = math.floor(n/2)\n",
    "\n",
    "t1 = Thread(target=mean_MT, args=(0, n1,0 ))  # Third apram is the thread number\n",
    "t2 = Thread(target=mean_MT, args=(n1+1,n-1,1)) \n",
    "\n",
    "#Time the execution\n",
    "start_time = time.time()\n",
    "\n",
    "t1.start()\n",
    "t2.start()\n",
    "\n",
    "t1.join() # Wait till t1 finishes\n",
    "t2.join() \n",
    "\n",
    "m = (means[0]+means[1])/2\n",
    "    \n",
    "end_time = time.time()\n",
    "print (end_time-start_time)\n",
    "print(m)\n",
    "\n"
   ]
  },
  {
   "cell_type": "markdown",
   "metadata": {
    "id": "8I6VdVbg9GuW"
   },
   "source": [
    "## Joblib\n"
   ]
  },
  {
   "cell_type": "markdown",
   "metadata": {
    "id": "eLZ372lc9GuW"
   },
   "source": [
    "### Caching of function output values"
   ]
  },
  {
   "cell_type": "code",
   "execution_count": null,
   "metadata": {
    "id": "sotfn-bz9GuX",
    "outputId": "82d55282-6e0c-4e4c-f9e0-d600aeb96ccb"
   },
   "outputs": [
    {
     "name": "stdout",
     "output_type": "stream",
     "text": [
      "________________________________________________________________________________\n",
      "[Memory] Calling square...\n",
      "square(array([[0., 0., 1.],\n",
      "       [1., 1., 1.],\n",
      "       [4., 2., 1.]]))\n",
      "___________________________________________________________square - 0.0s, 0.0min\n"
     ]
    }
   ],
   "source": [
    "\n",
    "#Transparent and fast disk-caching of output value\n",
    "# Refer: https://joblib.readthedocs.io/en/latest/\n",
    "from joblib import Memory\n",
    "cachedir = './'\n",
    "mem = Memory(cachedir)\n",
    "\n",
    "import numpy as np\n",
    "a = np.vander(np.arange(3)).astype(np.float)\n",
    "square = mem.cache(np.square)\n",
    "b = square(a)                                   "
   ]
  },
  {
   "cell_type": "code",
   "execution_count": null,
   "metadata": {
    "id": "9Lbl6al99GuY"
   },
   "outputs": [],
   "source": [
    "c = square(a)\n",
    "# The above call did not trigger an evaluation"
   ]
  },
  {
   "cell_type": "markdown",
   "metadata": {
    "id": "jRn9VqGV9GuY"
   },
   "source": [
    "### Simple Parallel programming for Loops"
   ]
  },
  {
   "cell_type": "code",
   "execution_count": null,
   "metadata": {
    "id": "JPDdDzSj9GuZ",
    "outputId": "a70f6a8d-233a-43ec-fd42-cb380e2802c2"
   },
   "outputs": [
    {
     "name": "stdout",
     "output_type": "stream",
     "text": [
      "17.116321802139282\n"
     ]
    }
   ],
   "source": [
    "# Refer: https://joblib.readthedocs.io/en/latest/generated/joblib.Parallel.html\n",
    "\n",
    "import time\n",
    "from math import sqrt # inbuilt fucntion\n",
    "\n",
    "def f(i):\n",
    "    \n",
    "    # some computations  that take time\n",
    "    x=10000\n",
    "    p =1;\n",
    "    for j in range(x):\n",
    "        for k in range(j):\n",
    "            p *= k\n",
    "    \n",
    "    return sqrt(i ** 2);\n",
    "\n",
    "# Find sqrt of first n numbers\n",
    "n=10;\n",
    "\n",
    "start_time = time.time()\n",
    "\n",
    "for i in range(n):\n",
    "    f(i)\n",
    "\n",
    "end_time = time.time()\n",
    "print (end_time-start_time)"
   ]
  },
  {
   "cell_type": "code",
   "execution_count": null,
   "metadata": {
    "id": "VHEwVqqs9Gua",
    "outputId": "3054855d-52bb-43e2-e76f-08d95a2abd7e"
   },
   "outputs": [
    {
     "name": "stdout",
     "output_type": "stream",
     "text": [
      "9.58085012435913\n"
     ]
    }
   ],
   "source": [
    "from joblib import Parallel, delayed\n",
    "\n",
    "start_time = time.time()\n",
    "\n",
    "a = Parallel(n_jobs=2)(delayed(f)(i) for i in range(n)) \n",
    "\n",
    "# Why we need dealyed(): https://stackoverflow.com/questions/42220458/what-does-the-delayed-function-do-when-used-with-joblib-in-python\n",
    "\n",
    "end_time = time.time()\n",
    "print (end_time-start_time)"
   ]
  },
  {
   "cell_type": "code",
   "execution_count": null,
   "metadata": {
    "id": "BXX_0MEs9Guc",
    "outputId": "2f136593-e61a-4e95-cba7-811f3b6dd879"
   },
   "outputs": [
    {
     "name": "stdout",
     "output_type": "stream",
     "text": [
      "17.342177867889404\n"
     ]
    }
   ],
   "source": [
    "# Multi threading: GIL is an issue\n",
    "start_time = time.time()\n",
    "\n",
    "a = Parallel(n_jobs=2,prefer=\"threads\")(delayed(f)(i ** 2) for i in range(n))\n",
    "\n",
    "end_time = time.time()\n",
    "print (end_time-start_time)"
   ]
  },
  {
   "cell_type": "code",
   "execution_count": null,
   "metadata": {
    "id": "cl-fymaf9Gue",
    "outputId": "a5020903-0833-45ef-a6ca-bb882ec621d2"
   },
   "outputs": [
    {
     "name": "stdout",
     "output_type": "stream",
     "text": [
      "4.557589054107666\n"
     ]
    }
   ],
   "source": [
    "\n",
    "# 6 jobs\n",
    "\n",
    "from joblib import Parallel, delayed\n",
    "\n",
    "start_time = time.time()\n",
    "\n",
    "a = Parallel(n_jobs=6)(delayed(f)(i ** 2) for i in range(n)) \n",
    "\n",
    "# Why we need dealyed(): https://stackoverflow.com/questions/42220458/what-does-the-delayed-function-do-when-used-with-joblib-in-python\n",
    "\n",
    "end_time = time.time()\n",
    "print (end_time-start_time)"
   ]
  },
  {
   "cell_type": "code",
   "execution_count": null,
   "metadata": {
    "id": "fWcuMGEU9Guf"
   },
   "outputs": [],
   "source": []
  }
 ],
 "metadata": {
  "colab": {
   "collapsed_sections": [],
   "name": "Multithreading_in_Python_for_AI_ML.ipynb",
   "provenance": []
  },
  "kernelspec": {
   "display_name": "Python 3",
   "language": "python",
   "name": "python3"
  },
  "language_info": {
   "codemirror_mode": {
    "name": "ipython",
    "version": 3
   },
   "file_extension": ".py",
   "mimetype": "text/x-python",
   "name": "python",
   "nbconvert_exporter": "python",
   "pygments_lexer": "ipython3",
   "version": "3.8.10"
  }
 },
 "nbformat": 4,
 "nbformat_minor": 4
}
