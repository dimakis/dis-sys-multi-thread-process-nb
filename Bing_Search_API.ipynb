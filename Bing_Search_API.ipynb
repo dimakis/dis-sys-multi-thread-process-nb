{
  "nbformat": 4,
  "nbformat_minor": 0,
  "metadata": {
    "colab": {
      "name": "Copy of BIng_search_api",
      "provenance": [],
      "collapsed_sections": []
    },
    "kernelspec": {
      "name": "python3",
      "display_name": "Python 3"
    }
  },
  "cells": [
    {
      "cell_type": "code",
      "metadata": {
        "id": "8zlNU6PimeII"
      },
      "source": [
        "from google.colab import drive"
      ],
      "execution_count": null,
      "outputs": []
    },
    {
      "cell_type": "markdown",
      "metadata": {
        "id": "yrV8qHAU7XhY"
      },
      "source": [
        "# Steps to signup for the API\n",
        "\n",
        "- Go to the url and follow the steps Under Bing Search APIs v7 section. Most of it is self explanatory\n",
        "\n",
        "- https://azure.microsoft.com/en-in/try/cognitive-services/?api=search-api-v7\n",
        "\n",
        "- After signing up, you will get couple of keys which are valid for 7 days, copy and use them here."
      ]
    },
    {
      "cell_type": "markdown",
      "metadata": {
        "id": "wGbCBNStGOiz"
      },
      "source": [
        "### API Keys adding them to *envs*"
      ]
    },
    {
      "cell_type": "markdown",
      "metadata": {
        "id": "PZ_lrPsBk4_l"
      },
      "source": [
        ""
      ]
    },
    {
      "cell_type": "code",
      "metadata": {
        "id": "IWtyoC1KFwbq"
      },
      "source": [
        "# Make a note of your API-Keys from AZURE"
      ],
      "execution_count": null,
      "outputs": []
    },
    {
      "cell_type": "code",
      "metadata": {
        "id": "SJN61W9gIM7_"
      },
      "source": [
        "BING_SEARCH_V7_SUBSCRIPTION_KEY = input(\"Subscription key : \") # input the above API key here."
      ],
      "execution_count": null,
      "outputs": []
    },
    {
      "cell_type": "code",
      "metadata": {
        "id": "TGCitv94H5XC"
      },
      "source": [
        "import os\n",
        "\n",
        "# Add your Bing Search V7 subscription key and endpoint to your environment variables.\n",
        "os.environ['BING_SEARCH_V7_SUBSCRIPTION_KEY'] = BING_SEARCH_V7_SUBSCRIPTION_KEY"
      ],
      "execution_count": null,
      "outputs": []
    },
    {
      "cell_type": "markdown",
      "metadata": {
        "id": "GEdHsIFiGVTE"
      },
      "source": [
        "# Using the Bing search API with key"
      ]
    },
    {
      "cell_type": "markdown",
      "metadata": {
        "id": "8BPGf-hK8TV0"
      },
      "source": [
        "## Query - 1"
      ]
    },
    {
      "cell_type": "code",
      "metadata": {
        "id": "TLnlbB33IcFZ"
      },
      "source": [
        "import json\n",
        "import os \n",
        "from pprint import pprint\n",
        "import requests\n"
      ],
      "execution_count": null,
      "outputs": []
    },
    {
      "cell_type": "code",
      "metadata": {
        "id": "vSVIaVB5IeHA"
      },
      "source": [
        "query = \"Microsoft Cognitive Services\"\n",
        "query"
      ],
      "execution_count": null,
      "outputs": []
    },
    {
      "cell_type": "code",
      "metadata": {
        "id": "GqNcB8kyHeW2"
      },
      "source": [
        "headers = {\n",
        "      # Request headers\n",
        "      'Ocp-Apim-Subscription-Key': os.environ['BING_SEARCH_V7_SUBSCRIPTION_KEY'],\n",
        "}"
      ],
      "execution_count": null,
      "outputs": []
    },
    {
      "cell_type": "code",
      "metadata": {
        "id": "syHpX78ef0qQ"
      },
      "source": [
        "import http.client, urllib.request, urllib.parse, urllib.error, base64\n",
        "import json\n",
        "\n",
        "def search(query, offset=0, count=10):\n",
        "\n",
        "  params = urllib.parse.urlencode({\n",
        "      # Request parameters\n",
        "      'q': query,\n",
        "      'count': count,\n",
        "      'offset': offset,\n",
        "      'mkt': 'en-us',\n",
        "      'safesearch': 'Moderate',\n",
        "  })\n",
        "\n",
        "  try:\n",
        "      conn = http.client.HTTPSConnection('api.cognitive.microsoft.com')\n",
        "      conn.request(\"GET\", \"/bing/v7.0/search?%s\" % params, \"{body}\", headers)\n",
        "      response = conn.getresponse()\n",
        "      data = response.read()\n",
        "      conn.close()\n",
        "  except Exception as e:\n",
        "      print(\"[Errno {0}] {1}\".format(e.errno, e.strerror))\n",
        "  finally\n",
        "  return json.loads(data)"
      ],
      "execution_count": null,
      "outputs": []
    },
    {
      "cell_type": "code",
      "metadata": {
        "id": "QHCt4l89Mc1e"
      },
      "source": [
        "res = search(query, offset=0, count=5)\n",
        "res.keys()\n",
        "for k,v in res.items():\n",
        "  print(\"{:15s} : {}\".format(k, v))"
      ],
      "execution_count": null,
      "outputs": []
    },
    {
      "cell_type": "markdown",
      "metadata": {
        "id": "sptYUk_IUW2z"
      },
      "source": [
        " \n",
        "\n",
        "---\n"
      ]
    },
    {
      "cell_type": "markdown",
      "metadata": {
        "id": "_T4zdfqnRJWT"
      },
      "source": [
        "### web Pages"
      ]
    },
    {
      "cell_type": "code",
      "metadata": {
        "id": "mOpkUPXMRXUX"
      },
      "source": [
        "for k,v in res['webPages'].items():\n",
        "  print(\"{:23s}: {}\".format(k, v))"
      ],
      "execution_count": null,
      "outputs": []
    },
    {
      "cell_type": "code",
      "metadata": {
        "id": "RgfLF2okSk_3"
      },
      "source": [
        "for page in res['webPages']['value']:\n",
        "  print(page.keys())"
      ],
      "execution_count": null,
      "outputs": []
    },
    {
      "cell_type": "code",
      "metadata": {
        "id": "9hejDx6cTLIk"
      },
      "source": [
        "for page in res['webPages']['value']:\n",
        "  for k,v in page.items():\n",
        "    print(\"{:17s}: {}\".format(k, v))\n",
        "  print('='*30)"
      ],
      "execution_count": null,
      "outputs": []
    },
    {
      "cell_type": "markdown",
      "metadata": {
        "id": "s3I8wYtoUeYj"
      },
      "source": [
        "---"
      ]
    },
    {
      "cell_type": "markdown",
      "metadata": {
        "id": "8c1GN992Njy-"
      },
      "source": [
        "### Related Searches \n",
        "\n",
        "\n",
        "- These will appear on the bottom of each webpage"
      ]
    },
    {
      "cell_type": "markdown",
      "metadata": {
        "id": "5q3pyEC6OuBy"
      },
      "source": [
        ""
      ]
    },
    {
      "cell_type": "code",
      "metadata": {
        "id": "A4c8nbjvOLpB"
      },
      "source": [
        "res['relatedSearches']['value'][0]"
      ],
      "execution_count": null,
      "outputs": []
    },
    {
      "cell_type": "code",
      "metadata": {
        "id": "ksWjDdAbM6FW"
      },
      "source": [
        "# get the webpage results from the search results\n",
        "for rs in res['relatedSearches']['value']:\n",
        "  print(f\"\\n{rs['text']}:-- {rs['displayText']}\\n\\t{rs['webSearchUrl']}\")"
      ],
      "execution_count": null,
      "outputs": []
    },
    {
      "cell_type": "markdown",
      "metadata": {
        "id": "hTnNNoXZUwdF"
      },
      "source": [
        "### videos\n"
      ]
    },
    {
      "cell_type": "code",
      "metadata": {
        "id": "vh22Hg2ZVJnG"
      },
      "source": [
        "res['videos'].keys()"
      ],
      "execution_count": null,
      "outputs": []
    },
    {
      "cell_type": "code",
      "metadata": {
        "id": "gGWiSVlrVSCn"
      },
      "source": [
        "for k, v in res['videos'].items():\n",
        "  print(\"{:17s}:  {}\".format(k, v))"
      ],
      "execution_count": null,
      "outputs": []
    },
    {
      "cell_type": "code",
      "metadata": {
        "id": "eiXoRhvUa02Y"
      },
      "source": [
        "for video in res['videos']['value']:\n",
        "  for k,v in video.items():\n",
        "    print('{:20s}: {}'.format(k, v))\n",
        "  print('-'*100,'\\n')"
      ],
      "execution_count": null,
      "outputs": []
    },
    {
      "cell_type": "markdown",
      "metadata": {
        "id": "HvCdq0OCU1UK"
      },
      "source": [
        "### rankingResponse\n",
        "\n",
        "- It will contains the urls to get the next page results"
      ]
    },
    {
      "cell_type": "code",
      "metadata": {
        "id": "O4T9a3irVH2l"
      },
      "source": [
        "res['rankingResponse'].keys()"
      ],
      "execution_count": null,
      "outputs": []
    },
    {
      "cell_type": "code",
      "metadata": {
        "id": "xiq-qqtib5Ju"
      },
      "source": [
        "res['rankingResponse']['mainline'].keys()"
      ],
      "execution_count": null,
      "outputs": []
    },
    {
      "cell_type": "code",
      "metadata": {
        "id": "EsKKejMob776"
      },
      "source": [
        "for item in res['rankingResponse']['mainline']['items']:\n",
        "  for k, v in item.items():\n",
        "    print('{:15s}: {}'.format(k, v))\n",
        "  print('-'*50, '\\n')"
      ],
      "execution_count": null,
      "outputs": []
    },
    {
      "cell_type": "markdown",
      "metadata": {
        "id": "o7Fyzej7e_l5"
      },
      "source": [
        "### Bing search API Playground \n",
        "\n",
        "- You can try this live at https://azure.microsoft.com/en-in/services/cognitive-services/bing-web-search-api/"
      ]
    },
    {
      "cell_type": "markdown",
      "metadata": {
        "id": "H648bVBMfKoC"
      },
      "source": [
        "## Query - 2\n",
        "\n",
        "- If you search for some persons, you will get some images and entities"
      ]
    },
    {
      "cell_type": "code",
      "metadata": {
        "id": "ZV7osZjEI8Tl"
      },
      "source": [
        "res = search(\"Mohit Taneja\")\n",
        "res.keys()\n",
        "for k,v in res.items():\n",
        "  print(\"{:15s} : {}\".format(k, v))"
      ],
      "execution_count": null,
      "outputs": []
    },
    {
      "cell_type": "markdown",
      "metadata": {
        "id": "-h5r6hm1JGNq"
      },
      "source": [
        "### queryContext"
      ]
    },
    {
      "cell_type": "code",
      "metadata": {
        "id": "wJHY9pcrJhGv"
      },
      "source": [
        "for k, v in res['queryContext'].items():\n",
        "  print('{:25s}: {}'.format(k, v))"
      ],
      "execution_count": null,
      "outputs": []
    },
    {
      "cell_type": "markdown",
      "metadata": {
        "id": "kM_2PKXMJb4z"
      },
      "source": [
        "### webPages"
      ]
    },
    {
      "cell_type": "code",
      "metadata": {
        "id": "J0-rCKD4Jw_A"
      },
      "source": [
        "res['webPages'].keys()"
      ],
      "execution_count": null,
      "outputs": []
    },
    {
      "cell_type": "code",
      "metadata": {
        "id": "OtTCeoWHJ31k"
      },
      "source": [
        "res['webPages']['webSearchUrl'],res['webPages']['totalEstimatedMatches']"
      ],
      "execution_count": null,
      "outputs": []
    },
    {
      "cell_type": "code",
      "metadata": {
        "id": "hNqmakyTKMFW"
      },
      "source": [
        "for val in res['webPages']['value']:\n",
        "  for k, v in val.items():\n",
        "    print('{:10s}: {}'.format(k, v))\n",
        "  print('-'*20, '\\n')"
      ],
      "execution_count": null,
      "outputs": []
    },
    {
      "cell_type": "markdown",
      "metadata": {
        "id": "pK1Os9-bJeEL"
      },
      "source": [
        "### images"
      ]
    },
    {
      "cell_type": "code",
      "metadata": {
        "id": "Q3Xk_WsQLkD0"
      },
      "source": [
        "for k, v in res['images'].items():\n",
        "  if k!='value':\n",
        "    print('{:20s}: {}'.format(k, v))"
      ],
      "execution_count": null,
      "outputs": []
    },
    {
      "cell_type": "code",
      "metadata": {
        "id": "xH95bhuGJgAt"
      },
      "source": [
        "for val in res['images']['value']:\n",
        "  for k, v in val.items():\n",
        "    print('{:20s}: {}'.format(k, v))\n",
        "  print('-'*20, '\\n')"
      ],
      "execution_count": null,
      "outputs": []
    },
    {
      "cell_type": "markdown",
      "metadata": {
        "id": "B4sALgssQcKk"
      },
      "source": [
        "# Bing Image Search API"
      ]
    },
    {
      "cell_type": "code",
      "metadata": {
        "id": "fiNZ0fxrQ3gK"
      },
      "source": [
        "######################################3\n",
        "# helper functions to display the images\n",
        "######################################3\n",
        "\n",
        "from PIL import Image\n",
        "import requests\n",
        "import matplotlib.pyplot as plt\n",
        "\n",
        "def show_img(url,  title=''):\n",
        "  response = requests.get(url, stream=True)\n",
        "  img = Image.open(response.raw)\n",
        "\n",
        "  plt.imshow(img)\n",
        "  plt.axis('off')\n",
        "  plt.title(title)\n",
        "  plt.show()\n",
        "\n",
        "\n",
        "def search_images(query, offset=0, count=5):\n",
        "\n",
        "  params = urllib.parse.urlencode({\n",
        "      # Request parameters\n",
        "      'q': query,\n",
        "      'count': count,   # # of results per request\n",
        "      'offset': offset,   # change this offset to get the next 10 results\n",
        "      'mkt': 'en-us',\n",
        "      'safesearch': 'Moderate',\n",
        "  })\n",
        "\n",
        "  try:\n",
        "      conn = http.client.HTTPSConnection('api.cognitive.microsoft.com')\n",
        "      conn.request(\"GET\", \"/bing/v7.0/images/search?%s\" % params, \"{body}\", headers) # changes in this line\n",
        "      response = conn.getresponse()\n",
        "      data = response.read()\n",
        "      conn.close()\n",
        "  except Exception as e:\n",
        "      print(\"[Errno {0}] {1}\".format(e.errno, e.strerror))\n",
        "\n",
        "  return json.loads(data)"
      ],
      "execution_count": null,
      "outputs": []
    },
    {
      "cell_type": "markdown",
      "metadata": {
        "id": "WGkowWkKZB97"
      },
      "source": [
        "## Image Search"
      ]
    },
    {
      "cell_type": "code",
      "metadata": {
        "id": "hTIVwv1HW1mp"
      },
      "source": [
        "res = search_images(\"Bill gates\", offset=0, count=4) \n",
        "for k,v in res.items():\n",
        "  print(\"{:21s} : {}\".format(k, v))"
      ],
      "execution_count": null,
      "outputs": []
    },
    {
      "cell_type": "markdown",
      "metadata": {
        "id": "CIE_o1vgXmBL"
      },
      "source": [
        "### queryExpansions"
      ]
    },
    {
      "cell_type": "code",
      "metadata": {
        "id": "-XvXpSYGsTrj"
      },
      "source": [
        "for qe in res['queryExpansions'][:10]:\n",
        "    for k,v in qe.items():\n",
        "      print('{:10s}: {}'.format(k,v))\n",
        "    print('-'*50, '\\n')"
      ],
      "execution_count": null,
      "outputs": []
    },
    {
      "cell_type": "markdown",
      "metadata": {
        "id": "4VJ57eWxsU9L"
      },
      "source": [
        "### pivotSuggestions"
      ]
    },
    {
      "cell_type": "code",
      "metadata": {
        "id": "QQmtgoE7uJXl"
      },
      "source": [
        "res['pivotSuggestions'][0]['pivot']"
      ],
      "execution_count": null,
      "outputs": []
    },
    {
      "cell_type": "code",
      "metadata": {
        "id": "65riQ44GsXEb"
      },
      "source": [
        "for s in res['pivotSuggestions'][0]['suggestions']:\n",
        "  for k,v in s.items():\n",
        "    print('{:10s}: {}'.format(k,v))\n",
        "  print('-'*50, '\\n')"
      ],
      "execution_count": null,
      "outputs": []
    },
    {
      "cell_type": "markdown",
      "metadata": {
        "id": "ET_K0wXmsXjl"
      },
      "source": [
        "### relatedSearches   ( which you will see at the top of the page) "
      ]
    },
    {
      "cell_type": "code",
      "metadata": {
        "id": "PExCEtuQsd3S"
      },
      "source": [
        "for rs in res['relatedSearches']:\n",
        "  for k,v in rs.items():\n",
        "    print('{:10s}: {}'.format(k,v))\n",
        "  print('-'*50, '\\n')"
      ],
      "execution_count": null,
      "outputs": []
    },
    {
      "cell_type": "markdown",
      "metadata": {
        "id": "ZMkCLO1_uyXL"
      },
      "source": [
        "### Image search results"
      ]
    },
    {
      "cell_type": "code",
      "metadata": {
        "id": "YVMbkVefu0m2"
      },
      "source": [
        "for val in res['value']:\n",
        "  show_img(val['thumbnailUrl'])\n",
        "  for k,v in val.items():\n",
        "    print('{:10s}: {}'.format(k,v))\n",
        "  print('-'*50, '\\n')"
      ],
      "execution_count": null,
      "outputs": []
    },
    {
      "cell_type": "markdown",
      "metadata": {
        "id": "KN1A6Az13PPn"
      },
      "source": [
        "# Final notes\n",
        "\n",
        "- We can use this image search api to collect images of a **specific person** OR **specific object** etc. The applications are limitless\n",
        "\n",
        "- Example:\n",
        "  - Collect all cellphone images to train a model to detect cell phone in an image\n",
        "  - Collect all the weapon images like guns, knives to prevent people entering with weapons into some specific places like temples or schools\n",
        "  - ...\n",
        "  - ...\n"
      ]
    }
  ]
}